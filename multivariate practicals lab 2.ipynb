{
 "cells": [
  {
   "cell_type": "code",
   "execution_count": 1,
   "metadata": {},
   "outputs": [
    {
     "name": "stdout",
     "output_type": "stream",
     "text": [
      "[[10 11 12 13 14 15]]\n"
     ]
    }
   ],
   "source": [
    "#20BCAB59\n",
    "#1.Define and print a 6 dimensional vector\n",
    "\n",
    "import numpy as np\n",
    "X=np.array([[10,11,12,13,14,15]])\n",
    "print(X)"
   ]
  },
  {
   "cell_type": "code",
   "execution_count": 2,
   "metadata": {},
   "outputs": [
    {
     "name": "stdout",
     "output_type": "stream",
     "text": [
      "[[10]\n",
      " [11]\n",
      " [12]\n",
      " [13]\n",
      " [14]\n",
      " [15]]\n"
     ]
    }
   ],
   "source": [
    "#2.Print the transpose of the above vector\n",
    "print(X.T)"
   ]
  },
  {
   "cell_type": "code",
   "execution_count": 3,
   "metadata": {},
   "outputs": [],
   "source": [
    "#3.Define two non square matrices such that they can be multiplied.\n",
    "A=np.array([[1,2],[3,4],[5,6]])\n",
    "B=np.array([[1,2,3],[4,5,6]])"
   ]
  },
  {
   "cell_type": "code",
   "execution_count": 4,
   "metadata": {},
   "outputs": [
    {
     "name": "stdout",
     "output_type": "stream",
     "text": [
      "(3, 2) (2, 3)\n"
     ]
    }
   ],
   "source": [
    "#4.print the shape of the above matrices\n",
    "print(np.shape(A),np.shape(B))"
   ]
  },
  {
   "cell_type": "code",
   "execution_count": 7,
   "metadata": {},
   "outputs": [],
   "source": [
    "#5.Print the product of above two matrices(do so without using the inbuilt functions).\n",
    "#3X2 matrix\n",
    "X=[[1,2],\n",
    "   [3,4],\n",
    "   [5,6]]\n",
    "\n",
    "#2X3 matrix\n",
    "Y=[[1,2,3],\n",
    "  [4,5,6]]\n"
   ]
  },
  {
   "cell_type": "code",
   "execution_count": 8,
   "metadata": {},
   "outputs": [],
   "source": [
    "#result is 3X3\n",
    "result=[[0,0,0],\n",
    "        [0,0,0],\n",
    "        [0,0,0]]"
   ]
  },
  {
   "cell_type": "code",
   "execution_count": 9,
   "metadata": {},
   "outputs": [
    {
     "name": "stdout",
     "output_type": "stream",
     "text": [
      "[9, 12, 15]\n",
      "[19, 26, 33]\n",
      "[29, 40, 51]\n"
     ]
    }
   ],
   "source": [
    "#iterating through rows of X\n",
    "for i in range(len(X)):\n",
    "    #iterating through columns of Y\n",
    "    for j in range(len(Y[0])):\n",
    "        #iterating through rows of Y\n",
    "        for k in range(len(Y)):\n",
    "            result[i][j]=result[i][j]+X[i][k]*Y[k][j]\n",
    "for r in result:\n",
    " print(r)  \n"
   ]
  },
  {
   "cell_type": "code",
   "execution_count": 10,
   "metadata": {},
   "outputs": [
    {
     "name": "stdout",
     "output_type": "stream",
     "text": [
      "[[ 5  5  5]\n",
      " [11 13  8]]\n"
     ]
    }
   ],
   "source": [
    "#6. Define two non square matrices of same order and print their sum.\n",
    "X=np.array([[1,2,3],[4,5,6]])\n",
    "Y=np.array([[4,3,2],[7,8,2]])\n",
    "print(X+Y)\n"
   ]
  },
  {
   "cell_type": "code",
   "execution_count": 11,
   "metadata": {},
   "outputs": [],
   "source": [
    "#7.Define a square matrix A\n",
    "A=np.array([[3,4,8],[5,6,7],[7,6,5]])"
   ]
  },
  {
   "cell_type": "code",
   "execution_count": 12,
   "metadata": {},
   "outputs": [
    {
     "name": "stdout",
     "output_type": "stream",
     "text": [
      "[[3 5 7]\n",
      " [4 6 6]\n",
      " [8 7 5]]\n"
     ]
    }
   ],
   "source": [
    "#8.Print the transpose of A\n",
    "print(A.T)"
   ]
  },
  {
   "cell_type": "code",
   "execution_count": 13,
   "metadata": {},
   "outputs": [
    {
     "name": "stdout",
     "output_type": "stream",
     "text": [
      "[[1 0 0]\n",
      " [0 1 0]\n",
      " [0 0 1]]\n"
     ]
    }
   ],
   "source": [
    "#9.Print the identity matrix of the above order I.\n",
    "I=np.array([[1,0,0],[0,1,0],[0,0,1]])\n",
    "print(I)"
   ]
  },
  {
   "cell_type": "code",
   "execution_count": 14,
   "metadata": {},
   "outputs": [
    {
     "name": "stdout",
     "output_type": "stream",
     "text": [
      "A.I= [[3 4 8]\n",
      " [5 6 7]\n",
      " [7 6 5]]\n",
      "I.A= [[3 4 8]\n",
      " [5 6 7]\n",
      " [7 6 5]]\n",
      "Therefore verified, A.I=I.A\n"
     ]
    }
   ],
   "source": [
    "# 10.Verify A.I=I.A for matrix multiplication.\n",
    "A=np.array([[3,4,8],[5,6,7],[7,6,5]])\n",
    "I=np.array([[1,0,0],[0,1,0],[0,0,1]])\n",
    "X=A@I\n",
    "print(\"A.I=\",X)\n",
    "Y=I@A\n",
    "print(\"I.A=\",Y)\n",
    "print(\"Therefore verified, A.I=I.A\")"
   ]
  },
  {
   "cell_type": "code",
   "execution_count": 15,
   "metadata": {},
   "outputs": [],
   "source": [
    "#11. Define another square matrix of the same order as A\n",
    "B=np.array([[2,1,9],[2,4,8],[1,6,8]])"
   ]
  },
  {
   "cell_type": "code",
   "execution_count": 16,
   "metadata": {},
   "outputs": [
    {
     "name": "stdout",
     "output_type": "stream",
     "text": [
      "[[ 22  67 123]\n",
      " [ 29  71 149]\n",
      " [ 31  61 151]]\n"
     ]
    }
   ],
   "source": [
    "#12.Print the product of the matrices as matrix multiplication\n",
    "print(A@B)"
   ]
  },
  {
   "cell_type": "code",
   "execution_count": 17,
   "metadata": {},
   "outputs": [
    {
     "name": "stdout",
     "output_type": "stream",
     "text": [
      "[[ 6  4 72]\n",
      " [10 24 56]\n",
      " [ 7 36 40]]\n"
     ]
    }
   ],
   "source": [
    "#13.Print the product of the matrices by element wise multiplication\n",
    "print(np.multiply(A,B))"
   ]
  },
  {
   "cell_type": "code",
   "execution_count": 18,
   "metadata": {},
   "outputs": [
    {
     "name": "stdout",
     "output_type": "stream",
     "text": [
      "The determinant is= -36.00000000000003\n",
      "The inverse of A is= [[ 0.33333333 -0.77777778  0.55555556]\n",
      " [-0.66666667  1.13888889 -0.52777778]\n",
      " [ 0.33333333 -0.27777778  0.05555556]]\n"
     ]
    }
   ],
   "source": [
    "#14.Calculate and print the inverse of A.(Use linalg)\n",
    "#Check if determinant is 0\n",
    "#Use if else statement to calculate inverse only when determinant is non 0.\n",
    "z=np.linalg.det(A)\n",
    "print(\"The determinant is=\",z)\n",
    "if z!=0:\n",
    "    print(\"The inverse of A is=\",np.linalg.inv(A))\n",
    "else:\n",
    "    print(\"Inverse does not exist\")"
   ]
  },
  {
   "cell_type": "code",
   "execution_count": null,
   "metadata": {},
   "outputs": [],
   "source": []
  }
 ],
 "metadata": {
  "kernelspec": {
   "display_name": "Python 3",
   "language": "python",
   "name": "python3"
  },
  "language_info": {
   "codemirror_mode": {
    "name": "ipython",
    "version": 3
   },
   "file_extension": ".py",
   "mimetype": "text/x-python",
   "name": "python",
   "nbconvert_exporter": "python",
   "pygments_lexer": "ipython3",
   "version": "3.8.5"
  }
 },
 "nbformat": 4,
 "nbformat_minor": 4
}
